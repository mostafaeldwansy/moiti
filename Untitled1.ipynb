{
  "nbformat": 4,
  "nbformat_minor": 0,
  "metadata": {
    "colab": {
      "provenance": [],
      "authorship_tag": "ABX9TyMZ6V74lCK2JSKiOaUYz/Dc",
      "include_colab_link": true
    },
    "kernelspec": {
      "name": "python3",
      "display_name": "Python 3"
    },
    "language_info": {
      "name": "python"
    }
  },
  "cells": [
    {
      "cell_type": "markdown",
      "metadata": {
        "id": "view-in-github",
        "colab_type": "text"
      },
      "source": [
        "<a href=\"https://colab.research.google.com/github/mostafaeldwansy/moiti/blob/main/Untitled1.ipynb\" target=\"_parent\"><img src=\"https://colab.research.google.com/assets/colab-badge.svg\" alt=\"Open In Colab\"/></a>"
      ]
    },
    {
      "cell_type": "markdown",
      "source": [
        "1. **Numbers** & ***Arithmetic***\n"
      ],
      "metadata": {
        "id": "a5a-F193pVAS"
      }
    },
    {
      "cell_type": "code",
      "execution_count": 9,
      "metadata": {
        "id": "h-PypUJmX6o8"
      },
      "outputs": [],
      "source": [
        "num1, num2, num3 = 3, 4, 5"
      ]
    },
    {
      "cell_type": "code",
      "source": [
        "print(\"a)\", num1 + num2)"
      ],
      "metadata": {
        "colab": {
          "base_uri": "https://localhost:8080/"
        },
        "id": "a5oAAc8CnY4e",
        "outputId": "7e5a109d-7eae-47aa-c05e-6326d334f8a1"
      },
      "execution_count": 2,
      "outputs": [
        {
          "output_type": "stream",
          "name": "stdout",
          "text": [
            "a) 7\n"
          ]
        }
      ]
    },
    {
      "cell_type": "code",
      "source": [
        "print(\"b)\", num3 - num1)"
      ],
      "metadata": {
        "colab": {
          "base_uri": "https://localhost:8080/"
        },
        "id": "7hf7IVDkncwk",
        "outputId": "9d92e525-f25f-41ac-ca22-583e26b36073"
      },
      "execution_count": 3,
      "outputs": [
        {
          "output_type": "stream",
          "name": "stdout",
          "text": [
            "b) 2\n"
          ]
        }
      ]
    },
    {
      "cell_type": "code",
      "source": [
        "print(\"c)\", num1 * num2 + num3)"
      ],
      "metadata": {
        "colab": {
          "base_uri": "https://localhost:8080/"
        },
        "id": "lrHustyzncox",
        "outputId": "cfe3ba37-1632-4710-9c95-2f8f2b75f73d"
      },
      "execution_count": 4,
      "outputs": [
        {
          "output_type": "stream",
          "name": "stdout",
          "text": [
            "c) 17\n"
          ]
        }
      ]
    },
    {
      "cell_type": "code",
      "source": [
        "print(\"d)\", num1 * (num2 + num3))"
      ],
      "metadata": {
        "colab": {
          "base_uri": "https://localhost:8080/"
        },
        "id": "UXYm-GLMncgN",
        "outputId": "03e425d9-c1ca-4059-804e-d177744b64c4"
      },
      "execution_count": 5,
      "outputs": [
        {
          "output_type": "stream",
          "name": "stdout",
          "text": [
            "d) 27\n"
          ]
        }
      ]
    },
    {
      "cell_type": "code",
      "source": [
        "print(\"e)\", num3 / num1)"
      ],
      "metadata": {
        "colab": {
          "base_uri": "https://localhost:8080/"
        },
        "id": "gg6AthrdncWL",
        "outputId": "2927f035-8017-46a0-cb40-104032eec11e"
      },
      "execution_count": 6,
      "outputs": [
        {
          "output_type": "stream",
          "name": "stdout",
          "text": [
            "e) 1.6666666666666667\n"
          ]
        }
      ]
    },
    {
      "cell_type": "code",
      "source": [
        "print(\"f)\", num3 // num1)"
      ],
      "metadata": {
        "colab": {
          "base_uri": "https://localhost:8080/"
        },
        "id": "tL_RW621np2o",
        "outputId": "8ea8f36e-b55d-4f8c-f5b8-3fbe720d2525"
      },
      "execution_count": 7,
      "outputs": [
        {
          "output_type": "stream",
          "name": "stdout",
          "text": [
            "f) 1\n"
          ]
        }
      ]
    },
    {
      "cell_type": "code",
      "source": [
        "print(\"g)\", num3 % num1)"
      ],
      "metadata": {
        "colab": {
          "base_uri": "https://localhost:8080/"
        },
        "id": "iWRQqTqDnpzA",
        "outputId": "c886309d-5892-40df-c056-762c9d735985"
      },
      "execution_count": 8,
      "outputs": [
        {
          "output_type": "stream",
          "name": "stdout",
          "text": [
            "g) 2\n"
          ]
        }
      ]
    },
    {
      "cell_type": "markdown",
      "source": [
        "# **1-h. Floating point**"
      ],
      "metadata": {
        "id": "R7JMnVzkpHBz"
      }
    },
    {
      "cell_type": "code",
      "source": [
        "num1, num2, num3 = 3.0, 4.0, 5.0"
      ],
      "metadata": {
        "id": "Y7jJsCJln_MT"
      },
      "execution_count": 17,
      "outputs": []
    },
    {
      "cell_type": "code",
      "source": [
        "print(\"a)\", num1 + num2)\n"
      ],
      "metadata": {
        "colab": {
          "base_uri": "https://localhost:8080/"
        },
        "id": "DXygSPctoBWW",
        "outputId": "588c469a-38a4-46fb-b815-a2d8545d75f6"
      },
      "execution_count": 10,
      "outputs": [
        {
          "output_type": "stream",
          "name": "stdout",
          "text": [
            "a) 7\n"
          ]
        }
      ]
    },
    {
      "cell_type": "code",
      "source": [
        "print(\"b)\", num3 - num1)"
      ],
      "metadata": {
        "colab": {
          "base_uri": "https://localhost:8080/"
        },
        "id": "yi2Ysr7loBKa",
        "outputId": "d1f1925c-dbb3-44d8-dab8-c72fa5883407"
      },
      "execution_count": 11,
      "outputs": [
        {
          "output_type": "stream",
          "name": "stdout",
          "text": [
            "b) 2\n"
          ]
        }
      ]
    },
    {
      "cell_type": "code",
      "source": [
        "print(\"c)\", num1 * num2 + num3)"
      ],
      "metadata": {
        "colab": {
          "base_uri": "https://localhost:8080/"
        },
        "id": "SK1B1ypxoBHm",
        "outputId": "8986ffe4-84ed-4b69-aaa9-1f88432aac7f"
      },
      "execution_count": 12,
      "outputs": [
        {
          "output_type": "stream",
          "name": "stdout",
          "text": [
            "c) 17\n"
          ]
        }
      ]
    },
    {
      "cell_type": "code",
      "source": [
        "print(\"d)\", num1 * (num2 + num3))"
      ],
      "metadata": {
        "colab": {
          "base_uri": "https://localhost:8080/"
        },
        "id": "J2I7Y3ZSoBE_",
        "outputId": "80ab19d1-66af-43b3-8162-2a22a7f5766d"
      },
      "execution_count": 13,
      "outputs": [
        {
          "output_type": "stream",
          "name": "stdout",
          "text": [
            "d) 27\n"
          ]
        }
      ]
    },
    {
      "cell_type": "code",
      "source": [
        "print(\"e)\", num3 / num1)"
      ],
      "metadata": {
        "colab": {
          "base_uri": "https://localhost:8080/"
        },
        "id": "QYEpuY8yoBCl",
        "outputId": "828ec77c-2a1f-4faa-e7e4-305e2dc78388"
      },
      "execution_count": 14,
      "outputs": [
        {
          "output_type": "stream",
          "name": "stdout",
          "text": [
            "e) 1.6666666666666667\n"
          ]
        }
      ]
    },
    {
      "cell_type": "code",
      "source": [
        "print(\"f)\", num3 // num1)"
      ],
      "metadata": {
        "colab": {
          "base_uri": "https://localhost:8080/"
        },
        "id": "pj52oC4uoXE-",
        "outputId": "2756eed1-24d4-47aa-f41f-3f912c8a8be1"
      },
      "execution_count": 15,
      "outputs": [
        {
          "output_type": "stream",
          "name": "stdout",
          "text": [
            "f) 1\n"
          ]
        }
      ]
    },
    {
      "cell_type": "code",
      "source": [
        "print(\"g)\", num3 % num1)"
      ],
      "metadata": {
        "colab": {
          "base_uri": "https://localhost:8080/"
        },
        "id": "cG3fl0tfoXBw",
        "outputId": "2532cd0e-c581-4217-f843-5a9ba2ea8e96"
      },
      "execution_count": 16,
      "outputs": [
        {
          "output_type": "stream",
          "name": "stdout",
          "text": [
            "g) 2\n"
          ]
        }
      ]
    },
    {
      "cell_type": "markdown",
      "source": [
        "# 2. **Arithmetic with x, y, z, g**\n"
      ],
      "metadata": {
        "id": "w99G0r_epnEp"
      }
    },
    {
      "cell_type": "code",
      "source": [
        "x, y, z, g = 1, 2, 3, 4\n",
        "\n",
        "print(\"2-a)\", x + y * z / g)\n",
        "\n",
        "print(\"2-b)\", y ** z)"
      ],
      "metadata": {
        "colab": {
          "base_uri": "https://localhost:8080/"
        },
        "id": "Pxd_-YxKptyv",
        "outputId": "7d7595d5-fef2-4adb-f188-24d654517009"
      },
      "execution_count": 18,
      "outputs": [
        {
          "output_type": "stream",
          "name": "stdout",
          "text": [
            "2-a) 2.5\n",
            "2-b) 8\n"
          ]
        }
      ]
    },
    {
      "cell_type": "markdown",
      "source": [
        "# 3. Strings"
      ],
      "metadata": {
        "id": "oQuCk05Ap5Em"
      }
    },
    {
      "cell_type": "code",
      "source": [
        "str_a = \"Python\"\n",
        "str_b = \"is a\"\n",
        "str_c = \"times fun language\"\n",
        "num = 1000\n",
        "\n",
        "str_ab = str_a + \" \" + str_b + \" \" + str(num) + \" \" + str_c\n",
        "print(\"3-a)\", str_ab)\n",
        "\n",
        "str_a1 = str_a * 10\n",
        "print(\"3-b)\", str_a1)\n"
      ],
      "metadata": {
        "colab": {
          "base_uri": "https://localhost:8080/"
        },
        "id": "BGwSDpLEqBhu",
        "outputId": "d822412a-9662-4e43-d01c-85f8d214c87c"
      },
      "execution_count": 19,
      "outputs": [
        {
          "output_type": "stream",
          "name": "stdout",
          "text": [
            "3-a) Python is a 1000 times fun language\n",
            "3-b) PythonPythonPythonPythonPythonPythonPythonPythonPythonPython\n"
          ]
        }
      ]
    },
    {
      "cell_type": "markdown",
      "source": [
        "# 4. Built-in Functions"
      ],
      "metadata": {
        "id": "4Iw3yR-8qOJw"
      }
    },
    {
      "cell_type": "code",
      "source": [
        "import math\n",
        "\n",
        "num1, num2, num3, num4 = -5, 3.2, 5.7, 625\n",
        "\n",
        "print(\"4-a)\", abs(num1))\n",
        "print(\"4-b1)\", round(num2))\n",
        "print(\"4-b2)\", round(num3))\n",
        "\n",
        "print(\"4-c)\", math.sqrt(num4))\n"
      ],
      "metadata": {
        "colab": {
          "base_uri": "https://localhost:8080/"
        },
        "id": "6W9epX1VqRGc",
        "outputId": "27ba3866-f2c9-438c-b136-e359575769d2"
      },
      "execution_count": 20,
      "outputs": [
        {
          "output_type": "stream",
          "name": "stdout",
          "text": [
            "4-a) 5\n",
            "4-b1) 3\n",
            "4-b2) 6\n",
            "4-c) 25.0\n"
          ]
        }
      ]
    },
    {
      "cell_type": "markdown",
      "source": [
        "# 5. Basic Calculator (Multiplication)"
      ],
      "metadata": {
        "id": "-hBs-k8FqYiX"
      }
    },
    {
      "cell_type": "code",
      "source": [
        "a = float(input(\"Enter first number: \"))\n",
        "b = float(input(\"Enter second number: \"))\n",
        "print(\"The result is:\", a * b)\n"
      ],
      "metadata": {
        "colab": {
          "base_uri": "https://localhost:8080/"
        },
        "id": "oFk8-BF9qfek",
        "outputId": "6f4f449e-5418-4951-aa4b-27d8d2fa3047"
      },
      "execution_count": 21,
      "outputs": [
        {
          "output_type": "stream",
          "name": "stdout",
          "text": [
            "Enter first number: 11\n",
            "Enter second number: 11\n",
            "The result is: 121.0\n"
          ]
        }
      ]
    },
    {
      "cell_type": "markdown",
      "source": [
        "# 1. Odd or Even"
      ],
      "metadata": {
        "id": "8_WH_CsHr2hT"
      }
    },
    {
      "cell_type": "code",
      "source": [
        "num = int(input(\"Enter a number: \"))\n",
        "\n",
        "if num % 2 == 0:\n",
        "    print(\"Even\")\n",
        "else:\n",
        "    print(\"Odd\")\n"
      ],
      "metadata": {
        "colab": {
          "base_uri": "https://localhost:8080/"
        },
        "id": "jwQnSDdIr4ZF",
        "outputId": "3d587ed0-e694-4c6e-8ff8-b64fa44a79ed"
      },
      "execution_count": 26,
      "outputs": [
        {
          "output_type": "stream",
          "name": "stdout",
          "text": [
            "Enter a number: 4\n",
            "Even\n"
          ]
        }
      ]
    },
    {
      "cell_type": "markdown",
      "source": [
        "# 2. Pass or Fail"
      ],
      "metadata": {
        "id": "3vE_PjYwsRtG"
      }
    },
    {
      "cell_type": "code",
      "source": [
        "score = int(input(\"Enter your score (0-100): \"))\n",
        "\n",
        "if score >= 50:\n",
        "    print(\"Pass\")\n",
        "else:\n",
        "    print(\"Fail\")\n"
      ],
      "metadata": {
        "colab": {
          "base_uri": "https://localhost:8080/"
        },
        "id": "oz_v2RXLsTkJ",
        "outputId": "1686f0ee-e391-41bf-c64c-f77486218c87"
      },
      "execution_count": 28,
      "outputs": [
        {
          "output_type": "stream",
          "name": "stdout",
          "text": [
            "Enter your score (0-100): 22\n",
            "Fail\n"
          ]
        }
      ]
    },
    {
      "cell_type": "markdown",
      "source": [
        "# 3. Largest of 3 numbers\n",
        "\n"
      ],
      "metadata": {
        "id": "GlfrhIyxsemu"
      }
    },
    {
      "cell_type": "code",
      "source": [
        "a = int(input(\"Enter first number: \"))\n",
        "b = int(input(\"Enter second number: \"))\n",
        "c = int(input(\"Enter third number: \"))\n",
        "\n",
        "if a >= b and a >= c:\n",
        "    print(\"Largest number is:\", a)\n",
        "elif b >= a and b >= c:\n",
        "    print(\"Largest number is:\", b)\n",
        "else:\n",
        "    print(\"Largest number is:\", c)\n"
      ],
      "metadata": {
        "colab": {
          "base_uri": "https://localhost:8080/"
        },
        "id": "Lj0MMNHfsg2d",
        "outputId": "06d85cda-a1dc-417a-ed71-5346accd85ea"
      },
      "execution_count": 31,
      "outputs": [
        {
          "output_type": "stream",
          "name": "stdout",
          "text": [
            "Enter first number: 3\n",
            "Enter second number: 8\n",
            "Enter third number: 9\n",
            "Largest number is: 9\n"
          ]
        }
      ]
    },
    {
      "cell_type": "markdown",
      "source": [
        "# 4. Counting with for"
      ],
      "metadata": {
        "id": "NQvPWDIHswDv"
      }
    },
    {
      "cell_type": "code",
      "source": [
        "for i in range(1, 11):\n",
        "    print(i)\n"
      ],
      "metadata": {
        "colab": {
          "base_uri": "https://localhost:8080/"
        },
        "id": "OPdIW5NosyoH",
        "outputId": "b94f1325-bdf8-4311-89be-92e66cb84166"
      },
      "execution_count": 32,
      "outputs": [
        {
          "output_type": "stream",
          "name": "stdout",
          "text": [
            "1\n",
            "2\n",
            "3\n",
            "4\n",
            "5\n",
            "6\n",
            "7\n",
            "8\n",
            "9\n",
            "10\n"
          ]
        }
      ]
    },
    {
      "cell_type": "markdown",
      "source": [
        "# 5. Grade Calculator"
      ],
      "metadata": {
        "id": "HKCophd-s5kY"
      }
    },
    {
      "cell_type": "code",
      "source": [
        "score = int(input(\"Enter your score: \"))\n",
        "\n",
        "if 90 <= score <= 100:\n",
        "    print(\"Grade: A\")\n",
        "elif 80 <= score <= 89:\n",
        "    print(\"Grade: B\")\n",
        "elif 70 <= score <= 79:\n",
        "    print(\"Grade: C\")\n",
        "elif 60 <= score <= 69:\n",
        "    print(\"Grade: D\")\n",
        "else:\n",
        "    print(\"Grade: F\")\n"
      ],
      "metadata": {
        "colab": {
          "base_uri": "https://localhost:8080/"
        },
        "id": "ovewodets7kf",
        "outputId": "50b87af8-3a80-4a52-be97-c65a35b217fc"
      },
      "execution_count": 33,
      "outputs": [
        {
          "output_type": "stream",
          "name": "stdout",
          "text": [
            "Enter your score: 7\n",
            "Grade: F\n"
          ]
        }
      ]
    },
    {
      "cell_type": "markdown",
      "source": [
        "# 6. Multiplication Table"
      ],
      "metadata": {
        "id": "WkB3Z5cVtKT7"
      }
    },
    {
      "cell_type": "code",
      "source": [
        "num = int(input(\"Enter a number: \"))\n",
        "\n",
        "for i in range(1, 11):\n",
        "    print(f\"{num} x {i} = {num * i}\")\n"
      ],
      "metadata": {
        "colab": {
          "base_uri": "https://localhost:8080/"
        },
        "id": "XJeXSfI7tNVK",
        "outputId": "61d1b888-8817-4eba-95f3-cce5b15c5132"
      },
      "execution_count": 34,
      "outputs": [
        {
          "output_type": "stream",
          "name": "stdout",
          "text": [
            "Enter a number: 90\n",
            "90 x 1 = 90\n",
            "90 x 2 = 180\n",
            "90 x 3 = 270\n",
            "90 x 4 = 360\n",
            "90 x 5 = 450\n",
            "90 x 6 = 540\n",
            "90 x 7 = 630\n",
            "90 x 8 = 720\n",
            "90 x 9 = 810\n",
            "90 x 10 = 900\n"
          ]
        }
      ]
    },
    {
      "cell_type": "markdown",
      "source": [
        "# 7. Sum of Even Numbers"
      ],
      "metadata": {
        "id": "oWngydfyta6u"
      }
    },
    {
      "cell_type": "code",
      "source": [
        "total = 0\n",
        "for i in range(1, 51):\n",
        "    if i % 2 == 0:\n",
        "        total += i\n",
        "\n",
        "print(\"Sum of even numbers from 1 to 50 is:\", total)\n"
      ],
      "metadata": {
        "colab": {
          "base_uri": "https://localhost:8080/"
        },
        "id": "nufniQ5XtfE-",
        "outputId": "b5c96993-0a05-4ba4-b814-4a474cf33fb1"
      },
      "execution_count": 35,
      "outputs": [
        {
          "output_type": "stream",
          "name": "stdout",
          "text": [
            "Sum of even numbers from 1 to 50 is: 650\n"
          ]
        }
      ]
    },
    {
      "cell_type": "markdown",
      "source": [
        "# 8. Factorial with while"
      ],
      "metadata": {
        "id": "QKcc9W6ntja-"
      }
    },
    {
      "cell_type": "code",
      "source": [
        "num = int(input(\"Enter a number: \"))\n",
        "factorial = 1\n",
        "i = 1\n",
        "\n",
        "while i <= num:\n",
        "    factorial *= i\n",
        "    i += 1\n",
        "\n",
        "print(f\"Factorial of {num} is: {factorial}\")\n"
      ],
      "metadata": {
        "colab": {
          "base_uri": "https://localhost:8080/"
        },
        "id": "daSncTvatm-q",
        "outputId": "09cd8520-3029-459b-fa86-fd1c19ad1495"
      },
      "execution_count": 38,
      "outputs": [
        {
          "output_type": "stream",
          "name": "stdout",
          "text": [
            "Enter a number: 6\n",
            "Factorial of 6 is: 720\n"
          ]
        }
      ]
    }
  ]
}